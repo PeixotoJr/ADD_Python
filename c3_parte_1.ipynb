{
  "nbformat": 4,
  "nbformat_minor": 0,
  "metadata": {
    "colab": {
      "provenance": [],
      "include_colab_link": true
    },
    "kernelspec": {
      "name": "python3",
      "display_name": "Python 3"
    }
  },
  "cells": [
    {
      "cell_type": "markdown",
      "metadata": {
        "id": "view-in-github",
        "colab_type": "text"
      },
      "source": [
        "<a href=\"https://colab.research.google.com/github/PeixotoJr/ADD_Python/blob/main/c3_parte_1.ipynb\" target=\"_parent\"><img src=\"https://colab.research.google.com/assets/colab-badge.svg\" alt=\"Open In Colab\"/></a>"
      ]
    },
    {
      "cell_type": "markdown",
      "metadata": {
        "id": "xnrEV-nLQX3S"
      },
      "source": [
        "# **Evolução**\n",
        "<hr>"
      ]
    },
    {
      "cell_type": "markdown",
      "metadata": {
        "id": "I3apx4jXP3Yj"
      },
      "source": [
        "Com o instrumental básico que vimos até aqui você pode começar a explorar diferentes dados.\n",
        "\n",
        "Neste capítulo vamos estar interessados em observar a evolução de um conjunto de dados, o comportamento de uma ou mais variáveis *dependentes*, com relação ao crescimento de uma outra variável *independente*. Quando a evolução é observada ao longo do tempo, chamaremos esse conjunto de *série temporal*.\n",
        "\n",
        "Vários conjuntos de dados de interesse apresentam essas características, como funções em geral e séries de dados históricas. Séries históricas de valores do PIB, número de internações diárias em um hospital, hits diários em um site de e-commerce ou a evolução das emissões de CO2 ao longo do tempo, para citar alguns exemplos.  \n",
        "\n",
        "Gráficos de linha, como os que empregamos até aqui, são comumente usados para observar a evolução dos dados. Mas antes de prosseguirmos vamos entender uma diferença entre gráficos de funções que fizemos até aqui e gráficos que exploram dados em geral."
      ]
    },
    {
      "cell_type": "markdown",
      "metadata": {
        "id": "HnkHWXZBRIyp"
      },
      "source": [
        "## Funções, Equações e Dados\n",
        "\n",
        "Nos exemplos anteriores empregamos funções para aprender um conjunto de comandos essencias para a produção de gráficos. Funções são um mapeamento em que para a cada dado de entrada (variáveis independentes) corresponde uma única variável de saída (variável dependente). Muitas funções são modeladas por Equações, como os modelos físicos de força ($F = m \\alpha$) ou da cinemática, há diversos modelos em diferentes áreas como engenharia, economia, biologia e mesmo nas ciências sociais, e modelos mais complexos podem evolver todo um sistema de equações.\n",
        "\n",
        "## Modelo do Lançamento de um Projétil\n",
        "\n",
        "Embora essas equações desempenhem um papel fundamental em muitos problemas, a análise de dados em geral emprega a coleta de dados reais que  diferem parcialmente dos modelos pela simplificação da realidade que eles adotam (desprezar o atrito por exemplo). É comum os dados apresentarem mais de um valor para uma mesma entrada de dados, como no caso de coleta de vários experimentos ou indivíduos, não sendo assim, neste caso, uma função no sentido matemático do termo (funções, por definição, apresentam sempre um único valor para a mesma entrada). Além disso, uma série de dados pode nem mesmo corresponder a qualquer modelo de equações conhecido, bastando lembrar de dados da bolsa de valores, do PIB ou ainda da progressão de casos de epidemia em uma população.\n",
        "\n",
        "O exemplo a seguir ilustra a diferença entre empregarmos equações para produzir visualizações, como fizemos até aqui, e o emprego de dados obtidos por coleta.\n",
        "\n",
        "Neste exemplo empregamos o modelo físico de lançamento de um projétil. A posição do projétil ao longo da sua trajetória pode ser dado em função da sua velocidade inicial e o ângulo de lançamento do projétil:\n",
        "\n",
        "$$ x = V_{0} cos(\\alpha) t $$\n",
        "$$ y = V_{0} sin(\\alpha) t - g t^2 / 2 $$\n",
        "\n",
        "o primeiro gráfico abaixo corresponde a essa trajetória teórica.\n",
        "\n",
        "Se você já acompanhou algum experimento em um laboratório de física ou química, pode imaginar que uma coleta de dados de vários lançamentos do projeto deve produzir resultados ligeiramente diferentes, seja por elementos não considerados no modelo como atrito, velocidade do ar etc. seja por imprecisões na tomada das medidas. Aqui, simulamos essas coletas adicionando ruído ao modelo teórico reproduzindo assim os dados *reais* do experimento. Note que para a exibição desses dados (segundo gráfico) empregamos a função `plt.scatter` e não o `plot` de linhas. O *scatter plot* é um gráfico de pontos ou de dispersão dos dados. Ele não liga os pontos de dados por linhas e é útil para exibir como estão dispersos os valores dos dados de duas variáveis. Falaremos mais sobre ele adiante e no capítulo Relações. Por hora ele é útil para exibir vários dados nos quais buscamos observar ou construir uma linha de tendência.\n",
        "\n",
        "> $\\bigstar \\text{  }$ *`scatter` plot é um gráfico de pontos ou de dispersão dos dados. Ele não liga os pontos de dados por linhas e é útil para exibir como estão dispersos os valores dos dados com relação a duas variáveis.*\n",
        "\n",
        "\n",
        "\n",
        "\n",
        "\n"
      ]
    },
    {
      "cell_type": "code",
      "metadata": {
        "id": "-jPb_1phTXTS"
      },
      "source": [
        "import pandas as pd\n",
        "import numpy as np\n",
        "import matplotlib.pyplot as plt\n",
        "import matplotlib as mpl\n",
        "import seaborn as sns\n",
        "%matplotlib inline"
      ],
      "execution_count": null,
      "outputs": []
    },
    {
      "cell_type": "markdown",
      "metadata": {
        "id": "2sVzVW9eWfhK"
      },
      "source": [
        "O código abaixo produz os dados da trajetória do projétil e você pode pular se não estiver interessado nos detalhes de como produzimos esses dados."
      ]
    },
    {
      "cell_type": "code",
      "metadata": {
        "id": "Gx1rSUWyCwH-"
      },
      "source": [
        "# Cálculo da trajetória do projétil\n",
        "def calc(iAngulo=45, iV0=100):\n",
        "  angRAd = np.deg2rad(iAngulo)\n",
        "  g = 9.8\n",
        "\n",
        "  alcanceMax = round(((iV0**2) * np.sin(2*angRAd)) / g, 1)\n",
        "  alturaMax = round((iV0**2) * (np.sin(angRAd))**2 / (2*g), 1)\n",
        "  tempoTotal = round((((2*iV0) * np.sin(angRAd)) / g), 1)\n",
        "\n",
        "  t = np.arange(0, tempoTotal, 0.25)\n",
        "\n",
        "  x = abs(iV0) * np.cos(angRAd) * t\n",
        "  y = (abs(iV0) * np.sin(angRAd) * t) - ((g*(t**2))/2)\n",
        "\n",
        "  vx = abs(iV0) * np.cos(angRAd) * ( t*0 + 1 )\n",
        "  vy = abs( abs(iV0) * np.sin(angRAd) * ( t*0 + 1 ) - g*t )\n",
        "  return t,x,y,vx,vy\n",
        "\n",
        "# Cálculo das trajetórias para lançamentos em ângulos de 45, 30 e 60 graus\n",
        "t,x,y,vx,vy = calc(45)\n",
        "A = np.ones(len(t))*45\n",
        "M = np.ones(len(t))\n",
        "df_teorico = pd.DataFrame(zip(M,A,t,x,y), columns=['medida','angulo','t','x','y'])\n",
        "\n",
        "t,x,y,vx,vy = calc(30)\n",
        "A = np.ones(len(x))*30\n",
        "M = np.ones(len(t))\n",
        "df_teorico = pd.concat([df_teorico, pd.DataFrame(zip(M,A,t,x,y), columns=['medida','angulo','t','x','y'])])\n",
        "\n",
        "t,x,y,vx,vy = calc(60)\n",
        "A = np.ones(len(x))*60\n",
        "M = np.ones(len(t))\n",
        "df_teorico = pd.concat([df_teorico, pd.DataFrame(zip(M,A,t,x,y), columns=['medida','angulo','t','x','y'])])\n",
        "\n",
        "# Simulando medidas de 20 lançamentos adicionando ruído ao modelo teórico\n",
        "df_real = pd.DataFrame()\n",
        "for i in range(20):\n",
        "  df_med = df_teorico.copy()\n",
        "  df_med.medida = i\n",
        "  df_med.x += df_med.x * np.random.normal(0,1,len(df_med))/65\n",
        "  df_med.y += df_med.y * np.random.normal(0,1,len(df_med))/65\n",
        "  df_real = pd.concat([df_real, df_med])\n"
      ],
      "execution_count": null,
      "outputs": []
    },
    {
      "cell_type": "markdown",
      "metadata": {
        "id": "-ziI4qaFYJuW"
      },
      "source": [
        "Dados do lançamento teórico e do lançamentos reais simulados:"
      ]
    },
    {
      "cell_type": "code",
      "metadata": {
        "id": "uEZH1UhhYuNT"
      },
      "source": [
        "df_teorico.head()"
      ],
      "execution_count": null,
      "outputs": []
    },
    {
      "cell_type": "code",
      "metadata": {
        "id": "csjY0iZTY3Md"
      },
      "source": [
        "df_real.head()"
      ],
      "execution_count": null,
      "outputs": []
    },
    {
      "cell_type": "markdown",
      "metadata": {
        "id": "owu1ySNsYaLW"
      },
      "source": [
        "Gráficos dos dados de lançamento."
      ]
    },
    {
      "cell_type": "code",
      "metadata": {
        "id": "BEKJpeD5NS1q"
      },
      "source": [
        "fig, ax = plt.subplots(1,2,figsize=(12,6),sharey=True)\n",
        "\n",
        "# Gráficos\n",
        "for ang in [45,30,60]:\n",
        "  ax[0].plot(df_teorico[df_teorico.angulo == ang].x, df_teorico[df_teorico.angulo == ang].y, '-', label='$a_0 = $' + str(ang))\n",
        "\n",
        "for ang in [45,30,60]:\n",
        "  ax[1].scatter(df_real[df_real.angulo == ang].x, df_real[df_real.angulo == ang].y, s=2.5, alpha=0.6)\n",
        "  ax[1].plot(df_teorico[df_teorico.angulo == ang].x, df_teorico[df_teorico.angulo == ang].y, '--', label='$\\\\alpha = $' + str(ang) + '$^o$')\n",
        "\n",
        "# Anotações\n",
        "for i in range(2):\n",
        "  ax[i].text(320, 50, '$ x = V_{0} cos(\\\\alpha) t $', fontsize=11)\n",
        "  ax[i].text(320, 30, '$ y = V_{0} sin(\\\\alpha) t - g t^2 / 2 $', fontsize=11)\n",
        "  ax[i].set_xlabel(\"Distância (m)\")\n",
        "\n",
        "ax[0].set_title(\"Trajetória Teórica do Lançamento\", fontsize=14, weight='bold')\n",
        "ax[1].set_title(\"Trajetória de várias Medidas de Lançamento\", fontsize=14, weight='bold')\n",
        "ax[0].set_ylabel(\"Altura (m)\")\n",
        "\n",
        "plt.legend(fontsize=12)\n",
        "\n",
        "plt.tight_layout()\n",
        "plt.show()\n",
        "\n"
      ],
      "execution_count": null,
      "outputs": []
    },
    {
      "cell_type": "markdown",
      "metadata": {
        "id": "TAgrtLnkZWvi"
      },
      "source": [
        "Você pode notar que o último gráfico não corresponde exatamente a uma função. Em especial, no caso das várias medidas, encontramos diferentes valores de $x$ e $y$ para os mesmos instantes de tempo. Não encontramos também a monotonicidade (dados crescentes ou descrecentes em um intervalo) ou a continuidade que normalmente exibem as funções, já que os pontos consideram um conjunto discreto e não contínuo de dados.\n",
        "\n",
        "\n",
        "**(*)** <small>A rigor aqui $x$ e $y$ são função do tempo $t$, isto é $x(t), y(t)$. Entretanto, exibimos um gráfico de $x \\times y$. Isso pode ser feito por haver uma correspondência direta do valor de $x$ e de $t$, enquanto também parece ser muito mais interessante exibir a trajetória dos lançamentos. A tabela da função pode ser vista `df_teorico.head()`.</small>"
      ]
    },
    {
      "cell_type": "markdown",
      "metadata": {
        "id": "ycqQvRB3SsEj"
      },
      "source": [
        "## Modelo de uma Turbina Eólica\n",
        "\n",
        "Você talvez considere o modelo anterior muito elementar e imagine que casos como esse não encontrem paralelo em casos mais práticos. Vamos então empregar um exemplo real.\n",
        "\n",
        "A seguir você encontra os dados de um modelo teórico da energia produzida por uma turbina heólica em função da velocidade do vento e os dados reais de turbinas obtidos a partir de medições. Aqui o modelo teórico é muito mais complexo do que modelo físico anterior com várias equações que envolvem parâmetros da turbina, condições de funcionamento, diâmetro da hélice, direção do vento etc. Já os dados reais são medidas diretas de turbinas em operação.\n",
        "\n",
        "O modelo teórico é útil pois permite comparar o modelo com os dados reais como abaixo."
      ]
    },
    {
      "cell_type": "code",
      "metadata": {
        "id": "quMcZHvmTCHy"
      },
      "source": [
        "data_T_AA = pd.read_csv('https://raw.githubusercontent.com/Rogerio-mack/Visualizacao-de-Dados-em-Python/main/data/T1_reshape.csv')\n",
        "data_T_AA_mean = pd.read_csv('https://raw.githubusercontent.com/Rogerio-mack/Visualizacao-de-Dados-em-Python/main/data/T1_reshape_mean.csv')\n",
        "\n",
        "data_T_AA.head()"
      ],
      "execution_count": null,
      "outputs": []
    },
    {
      "cell_type": "code",
      "metadata": {
        "id": "CZXjTAlzTEY8"
      },
      "source": [
        "data_T_AA_mean.head()"
      ],
      "execution_count": null,
      "outputs": []
    },
    {
      "cell_type": "code",
      "metadata": {
        "id": "jigfPFhVUgbC"
      },
      "source": [
        "fig, ax = plt.subplots(1,2,figsize=(12,6),sharey=True)\n",
        "\n",
        "fig.suptitle('Modelo e dados reais de uma Turbina Eólica', fontsize=14, weight='bold', y=1.05)\n",
        "\n",
        "# Gráficos\n",
        "ax[0].plot(data_T_AA_mean[\"WindSpeed(m/s)\"],data_T_AA_mean[\"Theoretical_Power_Curve (KWh)\"])\n",
        "\n",
        "ax[1].plot(data_T_AA_mean[\"WindSpeed(m/s)\"],data_T_AA_mean[\"Theoretical_Power_Curve (KWh)\"], '--k', label='Theorical')\n",
        "ax[1].scatter(data_T_AA[\"WindSpeed(m/s)\"],data_T_AA[\"ActivePower(kW)\"], label='Real', marker='o', color='orange', alpha=0.5)\n",
        "\n",
        "ax[0].set_title(\"Curva de Energia Teória (KWh)\", fontsize=14, weight='bold')\n",
        "ax[1].set_title(\"Energia Real - Várias Turbinas (KWh)\", fontsize=14, weight='bold')\n",
        "ax[0].set_ylabel(\"Power (KWh)\")\n",
        "\n",
        "# Anotações\n",
        "ax[0].set_xlabel(\"WindSpeed(m/s)\")\n",
        "ax[1].set_xlabel(\"WindSpeed(m/s)\")\n",
        "\n",
        "plt.legend(loc='lower right',fontsize=12)\n",
        "plt.tight_layout(rect=[0, 0, 1, 0.95])\n",
        "\n",
        "plt.tight_layout()\n",
        "plt.show()"
      ],
      "execution_count": null,
      "outputs": []
    },
    {
      "cell_type": "markdown",
      "metadata": {
        "id": "RDFCsBlVfNiu"
      },
      "source": [
        "O modelo permite observar como comportam-se as turbinas reais com relação ao modelo teórico no que se refere a energia produzida, e você pode reparar a dipersão dos valores das diferentes turbinas ou ainda os resultados bastante abaixo do modelo teórico do fabricante para a faixa de velocidade do vento entre 9-12 m/s."
      ]
    },
    {
      "cell_type": "markdown",
      "metadata": {
        "id": "z0FqHKjmxeOn"
      },
      "source": [
        "## Covid, Bolsa e Google Trends\n",
        "\n",
        "Mas ainda há uma classe de dados em que parece ser ainda mais importante a visualização dos dados. No conjunto de dados anterior existe um modelo teórico e um conjunto de dados reais, mas muitos conjuntos de dados não tem nenhum modelo teórico conhecido o que torna a análise e a busca por padrões nesses dados talvez muito mais importante.\n",
        "\n",
        "Os três exemplos que seguem mostram respectivamente, para um mesmo perído de 2020,  *(a)* a evolução de novos casos de Covid no Brasil, *(b)* dados do Ibovespa e *(c)* da pesquisa de termos no Google (Google Trends). Para nenhum desses dados existe um modelo teórico conhecido, mas podemos, a partir da visualização desses dados observar sua evolução e verificar hipóteses e possíveis causas para os comportamentos observados."
      ]
    },
    {
      "cell_type": "markdown",
      "metadata": {
        "id": "kv23x_MubqjY"
      },
      "source": [
        "### (a) Covid 2020"
      ]
    },
    {
      "cell_type": "code",
      "metadata": {
        "id": "6umeYEPjkibu"
      },
      "source": [
        "from datetime import datetime\n",
        "corona_Brasil = pd.read_csv('https://raw.githubusercontent.com/Rogerio-mack/Visualizacao-de-Dados-em-Python/main/data/corona_Brasil.csv')\n",
        "corona_Brasil.data = pd.to_datetime(corona_Brasil.data, format='%Y-%m-%d',errors='coerce')\n",
        "\n",
        "corona_Brasil.head()"
      ],
      "execution_count": null,
      "outputs": []
    },
    {
      "cell_type": "code",
      "metadata": {
        "id": "WkOI1h194f_y"
      },
      "source": [
        "fig, ax = plt.subplots(figsize=(14,6))\n",
        "\n",
        "ax.plot(corona_Brasil.data, corona_Brasil.casosNovos, label='Novos Casos')\n",
        "\n",
        "ax.set_title('Novos Casos de Covid (Brasil)', fontsize=14, weight='bold')\n",
        "ax.set_xlabel(\"date\")\n",
        "ax.set_ylabel(\"Novos Casos\")\n",
        "\n",
        "ax.legend()\n",
        "\n",
        "plt.show()"
      ],
      "execution_count": null,
      "outputs": []
    },
    {
      "cell_type": "markdown",
      "metadata": {
        "id": "hCaeVbWecCDk"
      },
      "source": [
        "### (b) Ibovepa 2020"
      ]
    },
    {
      "cell_type": "code",
      "metadata": {
        "id": "2y6URi3y3CxG"
      },
      "source": [
        "bovespa = pd.read_csv('https://raw.githubusercontent.com/Rogerio-mack/Visualizacao-de-Dados-em-Python/main/data/mystocksn.csv')\n",
        "bovespa.data = pd.to_datetime(bovespa.data, format='%Y-%m-%d',errors='coerce') # somente para ajustar formato da datas\n",
        "bovespa.head()\n"
      ],
      "execution_count": null,
      "outputs": []
    },
    {
      "cell_type": "code",
      "metadata": {
        "id": "PQ-tw4Fy3WMo"
      },
      "source": [
        "fig, ax = plt.subplots(figsize=(14,6))\n",
        "\n",
        "ax.plot(bovespa.data, bovespa.VALE3, label='VALE3')\n",
        "ax.plot(bovespa.data, bovespa.PETR4, label='PETR4')\n",
        "ax.plot(bovespa.data, bovespa.DOLAR, label='DOLAR')\n",
        "\n",
        "ax.set_title('Bolsa Ações', fontsize=14, weight='bold')\n",
        "ax.set_xlabel(\"date\")\n",
        "ax.set_ylabel(\"Valor (R$)\")\n",
        "\n",
        "ax.legend(fontsize=12)\n",
        "\n",
        "import matplotlib.ticker as ticker\n",
        "ax.xaxis.set_major_locator(ticker.MaxNLocator(8))\n",
        "\n",
        "plt.show()"
      ],
      "execution_count": null,
      "outputs": []
    },
    {
      "cell_type": "markdown",
      "metadata": {
        "id": "Ylis1Mj5cIs4"
      },
      "source": [
        "### (c) Google Trends"
      ]
    },
    {
      "cell_type": "code",
      "metadata": {
        "id": "frHJSxHY0xki"
      },
      "source": [
        "# Este código apenas instala o pacotes para buscar dados do Google Trends e você pode querer empregá-lo para fazer suas próprias pesquisas.\n",
        "!pip install pytrends\n",
        "from pytrends.request import TrendReq\n",
        "pytrend = TrendReq()"
      ],
      "execution_count": null,
      "outputs": []
    },
    {
      "cell_type": "code",
      "metadata": {
        "id": "7tGgitoZ02hr"
      },
      "source": [
        "pytrend.build_payload(kw_list=['Covid','Hotel','NetFlix','Notebook'], cat=0, timeframe='2020-02-25 2021-01-10', geo='BR')\n",
        "trends = pytrend.interest_over_time()\n",
        "\n",
        "trends.head()"
      ],
      "execution_count": null,
      "outputs": []
    },
    {
      "cell_type": "code",
      "metadata": {
        "id": "Kx6C6Xnt1YST"
      },
      "source": [
        "fig, ax = plt.subplots(figsize=(14,6))\n",
        "\n",
        "# Gráficos\n",
        "ax.plot(trends.index, trends.Covid, label='Covid')\n",
        "ax.plot(trends.index, trends.Hotel, label='Hotel')\n",
        "ax.plot(trends.index, trends.NetFlix, label='NetFlix')\n",
        "ax.plot(trends.index, trends.Notebook, label='Notebook')\n",
        "\n",
        "# Anotações\n",
        "from datetime import datetime\n",
        "\n",
        "ax.set_title('Google Trends', fontsize=14, weight='bold')\n",
        "ax.set_xlabel(\"date\")\n",
        "ax.set_ylabel(\"% hits\")\n",
        "\n",
        "ax.legend(fontsize=12)\n",
        "plt.show()"
      ],
      "execution_count": null,
      "outputs": []
    },
    {
      "cell_type": "markdown",
      "metadata": {
        "id": "o32oVjfkccHf"
      },
      "source": [
        "E podemos então empregar todos esses dados juntos para entendermos melhor a evolução desses dados."
      ]
    },
    {
      "cell_type": "code",
      "metadata": {
        "id": "Nz_7oN34Dfgu"
      },
      "source": [
        "fig, ax = plt.subplots(3,1,figsize=(14,15), sharex=True)\n",
        "\n",
        "fig.suptitle('Evolução de Dados sem Modelos Conhecidos', fontsize=14, weight='bold')\n",
        "\n",
        "ax[0].plot(corona_Brasil.data, corona_Brasil.casosNovos, label='Casos Novos')\n",
        "\n",
        "# Linhas verticais\n",
        "ax[0].vlines(datetime(2020, 3, 22),0,corona_Brasil.casosNovos.max(),linewidth=1,linestyle='--',colors='grey')\n",
        "ax[0].vlines(datetime(2020, 11, 1),0,corona_Brasil.casosNovos.max(),linewidth=1,linestyle='--',colors='grey')\n",
        "\n",
        "ax[0].set_title('Novos Casos de Covid (Brasil)', fontsize=14, weight='bold')\n",
        "ax[0].set_xlabel(\"date\")\n",
        "ax[0].set_ylabel(\"Novos Casos\")\n",
        "\n",
        "import numpy as np\n",
        "\n",
        "x = np.arange(0,len(corona_Brasil),1)\n",
        "z = np.polyfit(x, corona_Brasil.casosNovos, 1)\n",
        "p = np.poly1d(z)\n",
        "ax[0].plot(corona_Brasil.data,p(x),color='darkorange', linestyle='dashed')\n",
        "\n",
        "# Annotate\n",
        "ax[0].annotate('Segunda onda da Covid-19 no Brasil',\n",
        "             xy=(datetime(2020, 11, 1), 50000),  # ponto do gráfico\n",
        "             xytext=(datetime(2020, 8, 15), 70000),   # posição do texto\n",
        "             arrowprops=dict(arrowstyle=\"->\"),\n",
        "             fontsize=12,\n",
        "             color='grey')\n",
        "\n",
        "ax[0].legend()\n",
        "\n",
        "ax[1].plot(bovespa.data, bovespa.VALE3, label='VALE3')\n",
        "ax[1].plot(bovespa.data, bovespa.PETR4, label='PETR4')\n",
        "ax[1].plot(bovespa.data, bovespa.DOLAR, label='DOLAR')\n",
        "\n",
        "# Linhas verticais\n",
        "ax[1].vlines(datetime(2020, 3, 22),0,bovespa.VALE3.max(),linewidth=1,linestyle='--',colors='grey')\n",
        "ax[1].vlines(datetime(2020, 11, 1),0,bovespa.VALE3.max(),linewidth=1,linestyle='--',colors='grey')\n",
        "\n",
        "ax[1].set_title('Bolsa Ações', fontsize=14, weight='bold')\n",
        "ax[1].set_xlabel(\"date\")\n",
        "ax[1].set_ylabel(\"Valor (R$)\")\n",
        "\n",
        "# Annotate\n",
        "ax[1].annotate('Impacto da Primeira onda \\n Covid-19 no Brasil',\n",
        "             xy=(datetime(2020, 3, 22), 10),  # ponto do gráfico\n",
        "             xytext=(datetime(2020, 4, 1),15),  # posição do texto\n",
        "             arrowprops=dict(arrowstyle=\"->\"),\n",
        "             fontsize=12,\n",
        "             color='grey')\n",
        "\n",
        "import matplotlib.ticker as ticker\n",
        "ax[1].xaxis.set_major_locator(ticker.MaxNLocator(8))\n",
        "\n",
        "ax[1].legend(fontsize=12)\n",
        "\n",
        "ax[2].plot(trends.index, trends.Covid, label='Covid')\n",
        "ax[2].plot(trends.index, trends.Hotel, label='Hotel')\n",
        "ax[2].plot(trends.index, trends.NetFlix, label='NetFlix')\n",
        "ax[2].plot(trends.index, trends.Notebook, label='Notebook')\n",
        "\n",
        "# Linhas verticais\n",
        "ax[2].vlines(datetime(2020, 3, 22),0,100,linewidth=1,linestyle='--',colors='grey')\n",
        "ax[2].vlines(datetime(2020, 11, 1),0,100,linewidth=1,linestyle='--',colors='grey')\n",
        "\n",
        "\n",
        "ax[2].set_title('Google Trends', fontsize=14, weight='bold')\n",
        "ax[2].set_xlabel(\"date\")\n",
        "ax[2].set_ylabel(\"% hits\")\n",
        "\n",
        "\n",
        "ax[2].legend()\n",
        "\n",
        "plt.legend(loc='upper left',fontsize=12)\n",
        "plt.tight_layout(rect=[0, 0, 1, 0.95])\n",
        "\n",
        "plt.show()"
      ],
      "execution_count": null,
      "outputs": []
    },
    {
      "cell_type": "markdown",
      "metadata": {
        "id": "5QUdcfMfc4a3"
      },
      "source": [
        "A visualização nos ajuda, por exemplo, observarmos os impactos da pandemia sobre os ativos da bolsa (queda dos preços, aumento do dólar) e ou as buscas na internet (aumento de busca por serviços de *streamming*, queda de busca por hotéis).\n",
        "\n",
        "É claro que *observar* a evolução dos dados ou suas tendências não significa *entender* essa evolução e essas relações. Mas a visualização, na ausência de modelos teóricos, exibe esses comportamentos para que possam ser melhor analisados e entendidos. Note ainda que, além de explorarmos a evolução dos dados, estamos aqui observando relações entre os gráficos e uma visualização pode explorar vários aspectos dos dados. Mas aqui estamos interessados na evolução dos dados e no capítulo de Relações você verá mais sobre isso.  "
      ]
    },
    {
      "cell_type": "markdown",
      "metadata": {
        "id": "4jVrn32jx3dy"
      },
      "source": [
        "Obviamente não vamos fazer uma análise completa e conclusiva desses dados aqui, mas podemos ter uma ideia das relações entre buscas de termos no Google, a evolução de casos de Covid e seus impactos na Bolsa, e pode observar aqui o potencial de empregarmos a visualização de dados para entender a evolução desses dados e vamos ver mais algumas técnicas úteis para análise a partir de gráficos de linha como adicionar linhas de tendências aos dados e lidar com  diferentes escalas de dados.\n"
      ]
    },
    {
      "cell_type": "markdown",
      "metadata": {
        "id": "HC_baucUyaLT"
      },
      "source": [
        "## Adicionando linhas de Tendência\n",
        "\n",
        "Adicionar uma linha de tendência pressupõe fazermos algum tipo de modelo de regressão sobre os dados. Fizemos isso acima no gráfico de evolução dos casos de Covid. Em geral isso envolve escolhermos um tipo de função (linear, polinomial, exponencial etc.) e, em seguida determinarmos os parâmetros dessa função a partir, por exemplo, de um método de otimização como o de mínimos quadrados.\n",
        "\n",
        "Essa pode ser uma tarefa bastante complexa e o `Matplotlib` não tem um função direta para produzir essas linhas de tendência. Mas podemos fazer uso de outros pacotes `Python` para isso e, no final, a solução é bastante simples e flexível pois permite empregar muitos outros métodos de regressão, incluinco modelos sofisticados de aprendizado de máquina."
      ]
    },
    {
      "cell_type": "markdown",
      "metadata": {
        "id": "hpJ9B7Eq4247"
      },
      "source": [
        "Vamos começar com um conjunto de dados simples que já conhecemos, o quarteto de dados de Anscombe."
      ]
    },
    {
      "cell_type": "code",
      "metadata": {
        "id": "Dps0NWwRRZ0b"
      },
      "source": [
        "import seaborn as sns\n",
        "\n",
        "# Load the example dataset for Anscombe's quartet\n",
        "df = sns.load_dataset(\"anscombe\")\n",
        "df.head()"
      ],
      "execution_count": null,
      "outputs": []
    },
    {
      "cell_type": "markdown",
      "metadata": {
        "id": "CdYZpOvi5CDs"
      },
      "source": [
        "### Aproximando por um polinômio `np.polyfit()`\n",
        "\n",
        "A função `np.polyfit()` do pacote `NumPy` pode ser empregada para se obter os coeficientes de um polinômino de grau qualquer que melhor aproxima um conjunto de pontos. Se empregada com o grau 1 a aproximação irá corresponder ao modelo de **regressão linear** encontrando a melhor representação dos dados por uma reta.\n",
        "\n",
        "O uso é bastante direto:\n",
        "\n",
        "```\n",
        "  z = np.polyfit(ds.x, ds.y, 2)\n",
        "  p = np.poly1d(z)\n",
        "```\n",
        "\n",
        "A função `np.polyfit(x,y,<grau>)` é um otimizador e faz o cálculo dos coeficientes do polinômio $p( )$ que melhor aproxima os dados $y = p(x)$ com o grau indicado. A função `p = np.poly1d(z)` retorna o polinômio em forma de uma função que pode ser então aplicada a qualquer conjunto de dados. Um comando `x = np.arange()` pode ser empregado para gerar um intervalo de valores em que desejamos aplicar o polinômio `p`, para exibir uma linha contínua `plt.plot(x,p(x))`.\n"
      ]
    },
    {
      "cell_type": "code",
      "metadata": {
        "id": "Z3szAR94Q2rh"
      },
      "source": [
        "fig, ax = plt.subplots(2,2,figsize=(12,8))\n",
        "\n",
        "fig.suptitle('Inserindo uma Linha de Tendência', fontsize=14, weight='bold', y=1.05)\n",
        "\n",
        "i = 0\n",
        "for ds_type in df.dataset.unique():\n",
        "  ds = df[df.dataset == ds_type]\n",
        "\n",
        "  z = np.polyfit(ds.x, ds.y, 1)\n",
        "  p = np.poly1d(z)\n",
        "\n",
        "  ax[i//2,i%2].scatter(ds.x,ds.y)\n",
        "\n",
        "  x = np.arange(ds.x.min(), ds.x.max(), 0.1)\n",
        "  ax[i//2,i%2].plot(x,p(x),color='darkorange', linestyle='dashed')\n",
        "\n",
        "  i += 1\n",
        "\n",
        "plt.tight_layout()\n",
        "plt.show()"
      ],
      "execution_count": null,
      "outputs": []
    },
    {
      "cell_type": "markdown",
      "metadata": {
        "id": "dCtG4D1Y6lI8"
      },
      "source": [
        "E podemos empregar a função também para aproximação com polinômios de grau maior."
      ]
    },
    {
      "cell_type": "code",
      "metadata": {
        "id": "YZ5i9_FF6jOL"
      },
      "source": [
        "fig, ax = plt.subplots(2,2,figsize=(12,8))\n",
        "\n",
        "fig.suptitle('Inserindo uma Linha de Tendência', fontsize=14, weight='bold', y=1.05)\n",
        "\n",
        "i = 0\n",
        "for ds_type in df.dataset.unique():\n",
        "  ds = df[df.dataset == ds_type]\n",
        "\n",
        "  z = np.polyfit(ds.x, ds.y, 2)\n",
        "  p = np.poly1d(z)\n",
        "\n",
        "  ax[i//2,i%2].scatter(ds.x,ds.y)\n",
        "\n",
        "  x = np.arange(ds.x.min(), ds.x.max(), 0.1)\n",
        "  ax[i//2,i%2].plot(x,p(x),color='darkorange', linestyle='dashed')\n",
        "\n",
        "  i += 1\n",
        "\n",
        "plt.tight_layout()\n",
        "plt.show()"
      ],
      "execution_count": null,
      "outputs": []
    },
    {
      "cell_type": "markdown",
      "metadata": {
        "id": "88vuwpFV9Eer"
      },
      "source": [
        "A vantagem desse método está em você poder empregar quaisquer outros otimizadores e fazer a aproximação com funções arbitrárias de sua escolha, não ficando assim restrito aos modelos linear ou polinomial.\n",
        "\n",
        "O pacote `SciPy` é um eco-sistema `Python` para computação científica que inclui, dentre outros o `NumPy` e o `Matplotlib`. Ele fornece um método `curve_fit()` para obter os coeficientes que melhor aproximam um conjunto de pontos a uma função arbitrária de sua escolha. Os parâmetros obtidos da função são retornados em `*popt` e podem ser empregados para aplicar a função a um intervalo de valores que você deseja empregar do mesmo modo que no exemplo anterior."
      ]
    },
    {
      "cell_type": "code",
      "metadata": {
        "id": "SzykZo7kZlfJ"
      },
      "source": [
        "from scipy.optimize import curve_fit\n",
        "\n",
        "def func(x, a, b, c):\n",
        "    return a*np.sin(x) + b*np.cos(x) + x**c\n",
        "\n",
        "fig, ax = plt.subplots(2,2,figsize=(12,8))\n",
        "\n",
        "fig.suptitle('Inserindo uma Linha de Tendência', fontsize=14, weight='bold', y=1.05)\n",
        "\n",
        "i = 0\n",
        "for ds_type in df.dataset.unique():\n",
        "  ds = df[df.dataset == ds_type]\n",
        "\n",
        "  popt, pcov = curve_fit(func, ds.x, ds.y)\n",
        "\n",
        "  ax[i//2,i%2].scatter(ds.x,ds.y)\n",
        "\n",
        "  x = np.arange(ds.x.min(), ds.x.max(), 0.1)\n",
        "\n",
        "  ax[i//2,i%2].plot(x,func(x,*popt),color='darkorange', linestyle='dashed')\n",
        "  i += 1\n",
        "\n",
        "plt.tight_layout()\n",
        "plt.show()"
      ],
      "execution_count": null,
      "outputs": []
    },
    {
      "cell_type": "markdown",
      "metadata": {
        "id": "nNOdlIZv-n3s"
      },
      "source": [
        "Mas se para você for suficiente empregar um modelo linear e apenas buscar essa tendência nos dados, você pode também querer empregar a função do pacote `Seaborn`, `regplot()`. Essa função exibe a linha de tendência linear dos dados adicionando ainda o intervalo de confiança dos dados com o modelo obtido.\n",
        "\n",
        "O uso é também bastante simples,\n",
        "\n",
        "```\n",
        "sns.regplot(x='x', y='y', data=df)\n",
        "```\n",
        "\n",
        "e o comando acima irá exibir os pontos `'x'` e `'y'` de um `DataFrame` `df` com a linha de regressão linear e o intervalo de confiança correspondente.\n"
      ]
    },
    {
      "cell_type": "code",
      "metadata": {
        "id": "YJY1ltZoe-ub"
      },
      "source": [
        "fig, ax = plt.subplots(2,2,figsize=(12,8))\n",
        "\n",
        "fig.suptitle('Inserindo uma Linha de Tendência com regplot', fontsize=14, weight='bold', y=1.05)\n",
        "\n",
        "i = 0\n",
        "for ds_type in df.dataset.unique():\n",
        "  ds = df[df.dataset == ds_type]\n",
        "\n",
        "  sns.regplot(x='x', y='y', data=ds, ax=ax[i//2,i%2])\n",
        "  i += 1\n",
        "\n",
        "plt.tight_layout()\n",
        "plt.show()"
      ],
      "execution_count": null,
      "outputs": []
    },
    {
      "cell_type": "markdown",
      "metadata": {
        "id": "6MCltnotMyzM"
      },
      "source": [
        "Você ainda pode pesquisar na documentação do `Seaborn` o gráfico `sns.lmplot()` que combina as funções `regplot()` e `FacetGrid`, uma classe que ajuda a combinar  gráficos de diferentes subconjuntos de dados em vários painéis. Esse é um recurso específico do `Seaborn` e que não iremos explorar aqui, mas você pode experimentar o comando:\n",
        "\n",
        "```\n",
        "import seaborn as sns\n",
        "sns.lmplot(x='x', y='y', col='dataset', data=df, scatter_kws={\"s\": 50, \"alpha\": 1})\n",
        "plt.show()\n",
        "```\n",
        "\n",
        "Para exibir as linhas de tendência para os diferentes subconjuntos de dados tendo como filtro os diferentes valores do atributo `dataset`.\n",
        "\n",
        "\n",
        "\n"
      ]
    },
    {
      "cell_type": "markdown",
      "metadata": {
        "id": "KfJhigPbpNh_"
      },
      "source": [
        "### Linhas de Tendência no Modelo de uma Turbina Eólica\n",
        "\n",
        "Vamos agora aplicar essas linhas de tendência ao nosso conjunto de dados de uma Turbina Eólica.\n",
        "\n",
        "Reduzindo os dados ao intervalo de valores antes do patamar de saturação, podemos produzir as linhas de tendência linear e com um polinômio de grau 3.\n"
      ]
    },
    {
      "cell_type": "code",
      "metadata": {
        "id": "TJ_y3oegpNh_"
      },
      "source": [
        "data_T_AA = pd.read_csv('https://raw.githubusercontent.com/Rogerio-mack/Visualizacao-de-Dados-em-Python/main/data/T1_reshape.csv')\n",
        "data_T_AA_mean = pd.read_csv('https://raw.githubusercontent.com/Rogerio-mack/Visualizacao-de-Dados-em-Python/main/data/T1_reshape_mean.csv')\n",
        "\n",
        "data_T_AA.head()\n"
      ],
      "execution_count": null,
      "outputs": []
    },
    {
      "cell_type": "code",
      "metadata": {
        "id": "ivMn3QUkpNiA"
      },
      "source": [
        "data_T_AA_mean.head()"
      ],
      "execution_count": null,
      "outputs": []
    },
    {
      "cell_type": "code",
      "metadata": {
        "id": "Ixc6FZkSREub"
      },
      "source": [
        "data_T_AA = data_T_AA[ data_T_AA[\"WindSpeed(m/s)\"] < 12.5 ]\n",
        "data_T_AA_mean = data_T_AA_mean[ data_T_AA_mean[\"WindSpeed(m/s)\"] < 12.5 ]"
      ],
      "execution_count": null,
      "outputs": []
    },
    {
      "cell_type": "code",
      "metadata": {
        "id": "ptxB8m4spNiA"
      },
      "source": [
        "fig, ax = plt.subplots(1,2,figsize=(12,6),sharey=True)\n",
        "\n",
        "fig.suptitle('Modelo e dados reais de uma Turbina Eólica', fontsize=14, weight='bold', y=1.05)\n",
        "\n",
        "ax[0].plot(data_T_AA_mean[\"WindSpeed(m/s)\"],data_T_AA_mean[\"Theoretical_Power_Curve (KWh)\"], '--k', label='Theorical', alpha=0.5)\n",
        "ax[0].scatter(data_T_AA[\"WindSpeed(m/s)\"],data_T_AA[\"ActivePower(kW)\"], label='Real', marker='o', color='orange', alpha=0.5)\n",
        "\n",
        "ax[1].plot(data_T_AA_mean[\"WindSpeed(m/s)\"],data_T_AA_mean[\"Theoretical_Power_Curve (KWh)\"], '--k', label='Theorical', alpha=0.5)\n",
        "ax[1].scatter(data_T_AA[\"WindSpeed(m/s)\"],data_T_AA[\"ActivePower(kW)\"], label='Real', marker='o', color='orange', alpha=0.5)\n",
        "\n",
        "x = np.arange(data_T_AA[\"WindSpeed(m/s)\"].min(),data_T_AA[\"WindSpeed(m/s)\"].max(), 0.1)\n",
        "\n",
        "z = np.polyfit(data_T_AA[\"WindSpeed(m/s)\"],data_T_AA[\"ActivePower(kW)\"], 1)\n",
        "p = np.poly1d(z)\n",
        "ax[0].plot(x,p(x), linestyle='dashed', label='Linear(x)',linewidth=2, color='k')\n",
        "\n",
        "z = np.polyfit(data_T_AA[\"WindSpeed(m/s)\"],data_T_AA[\"ActivePower(kW)\"], 3)\n",
        "p = np.poly1d(z)\n",
        "ax[1].plot(x,p(x), linestyle='dashed', label='P3(x)' ,linewidth=2, color='k')\n",
        "\n",
        "ax[0].set_title(\"Curva de Energia Teória (KWh)\", fontsize=14, weight='bold')\n",
        "ax[1].set_title(\"Energia Real - Várias Turbinas (KWh)\", fontsize=14, weight='bold')\n",
        "ax[0].set_ylabel(\"Power (KWh)\")\n",
        "\n",
        "ax[0].set_xlabel(\"WindSpeed(m/s)\")\n",
        "ax[1].set_xlabel(\"WindSpeed(m/s)\")\n",
        "\n",
        "ax[0].legend(loc='lower right',fontsize=12)\n",
        "ax[1].legend(loc='lower right',fontsize=12)\n",
        "plt.tight_layout(rect=[0, 0, 1, 0.95])\n",
        "\n",
        "plt.tight_layout()\n",
        "plt.show()"
      ],
      "execution_count": null,
      "outputs": []
    },
    {
      "cell_type": "markdown",
      "metadata": {
        "id": "kV22PFPtVMK8"
      },
      "source": [
        "Como você pode ver o ajuste linear oferece pouca aderência aos dados coletados. Já modelo polinomial de grau 3,  no intervalo de valores empregado, parece se ajustar até melhor que o próprio modelo teórico do fabricante!"
      ]
    },
    {
      "cell_type": "markdown",
      "metadata": {
        "id": "LESb4R6hWJEs"
      },
      "source": [
        "### Tendências e Séries Temporais\n",
        "\n",
        "Na maior parte dos casos não vamos encontrar um modelo tão próximo como no exemplo anterior da nossa Turbina Eólica, mas interessa-nos apenas buscar definir melhor uma tendência de crescimento ou não dos valores. Nesses casos parece suficiente adotarmos simplesmente uma linha de tendência linear. Vamos ilustrar isso empregando o conjunto de dados de cotações de índice da bolsa.\n",
        "\n",
        "> $\\bigstar \\text{  }$ *Aqui você vai encontrar um problema muito comum ao buscarmos tendências em dados temporais. Sua variável independente (a linha do tempo) não pode ser aplicada diretamente a uma regressão linear (ou outra qualquer) pois seus dados não são numéricos. Para fazer isso teremos de empregar um artifício e transformar a linha do tempo em um atributo numérico.*\n",
        "\n",
        "Isso pode ser feito atribuindo-se para cada data do conjunto de dados um valor inteiro diferente a partir de 0. Se cada linha do conjunto de dados corresponde a uma data esse valor pode ser o próprio índice do seu conjunto de dados (para um `DataFrame`, `df.index`).\n",
        "\n",
        "\n",
        "\n",
        "\n"
      ]
    },
    {
      "cell_type": "code",
      "metadata": {
        "id": "KZpsrcVZpNiB"
      },
      "source": [
        "bovespa = pd.read_csv('https://raw.githubusercontent.com/Rogerio-mack/Visualizacao-de-Dados-em-Python/main/data/mystocksn.csv')\n",
        "bovespa.data = pd.to_datetime(bovespa.data, format='%Y-%m-%d',errors='coerce') # somente para ajustar formato da datas\n",
        "bovespa.head()\n"
      ],
      "execution_count": null,
      "outputs": []
    },
    {
      "cell_type": "code",
      "metadata": {
        "id": "6caRy6YRd_y0"
      },
      "source": [
        "bovespa.index"
      ],
      "execution_count": null,
      "outputs": []
    },
    {
      "cell_type": "code",
      "metadata": {
        "id": "1E3TuaQzpNiC"
      },
      "source": [
        "fig, ax = plt.subplots(figsize=(14,6))\n",
        "\n",
        "ax.plot(bovespa.data, bovespa.DOLAR, label='DOLAR')\n",
        "\n",
        "ax.set_title('Tendência do Dólar (Regressão a Intervalo Fixo)', fontsize=14, weight='bold')\n",
        "ax.set_xlabel(\"date\")\n",
        "ax.set_ylabel(\"Valor (R$)\")\n",
        "\n",
        "z = np.polyfit(bovespa.index,bovespa.DOLAR, 1)\n",
        "p = np.poly1d(z)\n",
        "ax.plot(bovespa.data,p(bovespa.index), linestyle='dashed', label='Linear(x)' ,linewidth=2, color='k')\n",
        "\n",
        "# OU\n",
        "# x = np.arange(0,len(bovespa),1)\n",
        "# z = np.polyfit(x,bovespa.DOLAR, 1)\n",
        "# p = np.poly1d(z)\n",
        "# ax.plot(bovespa.data,p(x), linestyle='dashed', label='Linear(x)' ,linewidth=2, color='k')\n",
        "\n",
        "ax.legend(fontsize=12)\n",
        "\n",
        "import matplotlib.ticker as ticker\n",
        "ax.xaxis.set_major_locator(ticker.MaxNLocator(8))\n",
        "\n",
        "plt.show()"
      ],
      "execution_count": null,
      "outputs": []
    },
    {
      "cell_type": "markdown",
      "metadata": {
        "id": "e725otNnd8EC"
      },
      "source": [
        "O procedimento acima será útil para você em muitos casos que envolvem séries temporais. Acima empregamos diretamente o índice dos dados (186 valores de $[0,185]$ para cada data) para linha de tempo da regressão mas, na ausência de um índice, poderíamos criar um valor diferente para cada data empregando:\n",
        "\n",
        "```\n",
        "x = np.arange(0,len(bovespa),1)\n",
        "```\n",
        "\n",
        "isso encontra-se comentado no código como uma forma opcional caso você precise desse procedimento.\n",
        "\n",
        "Há entretanto uma série de detalhes quanto a isso. Por exemplo você pode ter intervalos de datas diferentes e, neste caso, pode ser necessário associar a cada data a distãncia em dias com relação a menor data do conjunto de dados e não valores com um incremento fixo como acima.\n",
        "\n",
        "Mesmo no nosso exemplo, como os dados da bolsa referem-se somente a dias úteis há um intervalo de datas maior nos finais de semana e, embora os resultados sejam praticamente os mesmos aqui, a rigor precisáriamos empregar intervalos de data diferentes e para outros casos isso pode ser realmente necessário. Fazemos esse procedimento abaixo incluindo uma variável que corresponde a quantidade de dias a partir da data inicial e a função `dt.days` permite transformar esses valores em numéricos para o cálculo da regressão.  "
      ]
    },
    {
      "cell_type": "code",
      "metadata": {
        "id": "vG9wbhstav59"
      },
      "source": [
        "bovespa['dias'] = bovespa['data'] - bovespa['data'].min()"
      ],
      "execution_count": null,
      "outputs": []
    },
    {
      "cell_type": "code",
      "metadata": {
        "id": "qrIPZzXcbGGU"
      },
      "source": [
        "fig, ax = plt.subplots(figsize=(14,6))\n",
        "\n",
        "ax.plot(bovespa.data, bovespa.DOLAR, label='DOLAR')\n",
        "\n",
        "ax.set_title('Tendência do Dólar (Regressão a Intervalo Variável)', fontsize=14, weight='bold')\n",
        "ax.set_xlabel(\"date\")\n",
        "ax.set_ylabel(\"Valor (R$)\")\n",
        "\n",
        "z = np.polyfit(bovespa.dias.dt.days,bovespa.DOLAR, 1)\n",
        "p = np.poly1d(z)\n",
        "ax.plot(bovespa.data,p(bovespa.dias.dt.days), linestyle='dashed', label='Linear(x)' ,linewidth=2, color='k')\n",
        "\n",
        "ax.legend(fontsize=12)\n",
        "\n",
        "import matplotlib.ticker as ticker\n",
        "ax.xaxis.set_major_locator(ticker.MaxNLocator(8))\n",
        "\n",
        "plt.show()"
      ],
      "execution_count": null,
      "outputs": []
    },
    {
      "cell_type": "markdown",
      "metadata": {
        "id": "BZD7lzOoo_0e"
      },
      "source": [
        "Aqui o resultado é praticamente o mesmo, mas para os casos onde os intervalos de data tenham uma proporções maiores com relação ao início e fim do intervalo, ou muitos 'buracos' de datas, isso pode ser relevante."
      ]
    },
    {
      "cell_type": "markdown",
      "metadata": {
        "id": "RuKVSxWUIp6O"
      },
      "source": [
        "### Linha de Tendência com Média dos Dados\n",
        "\n",
        "Uma outra forma de entendermos as linhas de tendência dos dados é empregarmos a média dos vários valores e ligar esses pontos a uma linha de tendência. Aqui não buscamos aproximar nenhum modelo, como um modelo linear ou polinomial, mas simplesmente exibir uma média de tendência dos dados.\n",
        "\n"
      ]
    },
    {
      "cell_type": "code",
      "metadata": {
        "id": "BF4pVvprFBQy"
      },
      "source": [
        "fig, ax = plt.subplots(figsize=(14,6))\n",
        "\n",
        "data_T_AA = pd.read_csv('https://raw.githubusercontent.com/Rogerio-mack/Visualizacao-de-Dados-em-Python/main/data/T1_reshape.csv')\n",
        "data_T_AA_mean = pd.read_csv('https://raw.githubusercontent.com/Rogerio-mack/Visualizacao-de-Dados-em-Python/main/data/T1_reshape_mean.csv')\n",
        "\n",
        "plt.plot(data_T_AA_mean[\"WindSpeed(m/s)\"],data_T_AA_mean[\"Theoretical_Power_Curve (KWh)\"],'--k',label='Theorical')\n",
        "plt.plot(data_T_AA_mean[\"WindSpeed(m/s)\"],data_T_AA_mean[\"ActivePower(kW)\"], marker='o', color='r', linewidth=1, label='Trend')\n",
        "plt.scatter(data_T_AA[\"WindSpeed(m/s)\"],data_T_AA[\"ActivePower(kW)\"], marker='o', color='orange',  alpha=0.7, s=64, label='Samples')\n",
        "\n",
        "plt.title(\"Energia Real - Várias Turbinas (KWh)\", fontsize=14, weight='bold')\n",
        "plt.ylabel(\"Power (KWh)\")\n",
        "plt.xlabel(\"WindSpeed(m/s)\")\n",
        "plt.legend()\n",
        "\n",
        "plt.show()"
      ],
      "execution_count": null,
      "outputs": []
    },
    {
      "cell_type": "markdown",
      "metadata": {
        "id": "4gk50nH0Fdfb"
      },
      "source": [
        "Essa linha média ainda pode ser incrementada com uma margem de erro, por exemplo o desvio padrão, permitindo acompanhar a dispersão dos dados ao longo da linha média. Para isso, no lugar do `plot` você pode empregar o comando `plt.errorbar`.\n",
        "\n",
        "Vamos empregar isso em nosso conjunto de dados da bolsa de valores. Como nossos dados apresentam apenas uma única cotação diária, vamos agregar a cotações e exibir as cotações mensais ao longo dos doze meses da base.\n",
        "\n"
      ]
    },
    {
      "cell_type": "code",
      "metadata": {
        "id": "bJDwEVxcyRvF"
      },
      "source": [
        "bovespa['mes'] = bovespa['data'].dt.month\n",
        "bovespa['mes'] = bovespa['mes'] - 1\n",
        "bovespa.loc[bovespa['mes'] == 0, 'mes'] = 12\n",
        "#bovespa.at[ bovespa['mes'] == 0 , 'mes' ] = 12"
      ],
      "execution_count": null,
      "outputs": []
    },
    {
      "cell_type": "code",
      "metadata": {
        "id": "C7uJ4XWv0GQ6"
      },
      "source": [
        "bovespa.head()"
      ],
      "execution_count": null,
      "outputs": []
    },
    {
      "cell_type": "code",
      "metadata": {
        "id": "QM3NDKEj0_zU"
      },
      "source": [
        "fig, ax = plt.subplots(figsize=(14,6))\n",
        "\n",
        "yerr = []\n",
        "ymean = []\n",
        "for mes in bovespa.mes.unique():\n",
        "  yerr.append(bovespa[bovespa.mes == mes]['IBOV'].std())\n",
        "  ymean.append(bovespa[bovespa.mes == mes]['IBOV'].mean())\n",
        "yerr = np.array(yerr)\n",
        "ymean = np.array(ymean)\n",
        "\n",
        "plt.errorbar(bovespa.mes.unique(), ymean, yerr=yerr, label='Tendência', marker='o', color='r', linewidth=1.2)\n",
        "plt.scatter(bovespa.mes, bovespa.IBOV, label='Valores Mês', marker='o', color='orange', alpha=0.7, s=64)\n",
        "\n",
        "plt.title(\"Tendência do Índice Bovespa\", fontsize=14, weight='bold')\n",
        "plt.xlabel(\"Mês\")\n",
        "plt.ylabel(\"Pontos\")\n",
        "plt.legend()\n",
        "\n",
        "plt.show()"
      ],
      "execution_count": null,
      "outputs": []
    },
    {
      "cell_type": "markdown",
      "metadata": {
        "id": "bEjE1oxiIrMI"
      },
      "source": [
        "O mesmo procedimento poderia ser feito se tivéssemos cotações diárias do índice e se já você acompanhou gráficos empregados na análise técnica de ações da bolsa na mídia ou em aplicativos de investimento, deve notar semelhança dos gráficos. No caso de ações da bolsa, entretanto, é mais comum essa tendência ser acompanhada de gráfico de caixa, ou `boxplot` como abaixo."
      ]
    },
    {
      "cell_type": "code",
      "metadata": {
        "id": "9Kw4HYTeKLpV"
      },
      "source": [
        "fig, ax = plt.subplots(figsize=(14,6))\n",
        "\n",
        "plt.plot(bovespa.mes.unique(), ymean, label='Tendência', marker='o', color='b', linewidth=1.2, markersize=4)\n",
        "plt.scatter(bovespa.mes, bovespa.IBOV, label='Valores Mês', marker='o', color='orange', alpha=0.4, s=64)\n",
        "for mes in bovespa.mes.unique():\n",
        "  plt.boxplot(bovespa[bovespa.mes == mes].IBOV, positions=[mes], widths=0.15, flierprops=dict(color='r',markeredgecolor='r'),medianprops=dict(color='k'))\n",
        "\n",
        "plt.title(\"Tendência do Índice Bovespa\", fontsize=14, weight='bold')\n",
        "plt.xlabel(\"Mês\")\n",
        "plt.ylabel(\"Pontos\")\n",
        "plt.legend()\n",
        "\n",
        "plt.show()"
      ],
      "execution_count": null,
      "outputs": []
    },
    {
      "cell_type": "markdown",
      "metadata": {
        "id": "Q4YcO3yvOxxl"
      },
      "source": [
        "O gráficos de caixa foram introduzidos nos anos 70 por John Tukey como uma forma sintética de exibir a distribuição dos dados e vem sendo largamente empregados desde então. Esse e outros gráficos de distribuição é o que estudaremos a seguir no capítulo de Distribuição.\n",
        "\n"
      ]
    },
    {
      "cell_type": "markdown",
      "metadata": {
        "id": "zveU7HGFg9EF"
      },
      "source": [
        "## Trabalhando com Escalas Diferentes\n",
        "\n",
        "Se você empregar agora diretamente o gráfico anterior para analisar a tendência não só do dólar mas também do índice Bovespa o resultado não irá parecer dos melhores."
      ]
    },
    {
      "cell_type": "code",
      "metadata": {
        "id": "r01LLCLJhHIy"
      },
      "source": [
        "fig, ax = plt.subplots(figsize=(14,6))\n",
        "\n",
        "ax.plot(bovespa.data, bovespa.DOLAR, label='DOLAR')\n",
        "ax.plot(bovespa.data, bovespa.IBOV, label='IBOVESPA')\n",
        "\n",
        "ax.set_title('Tendência do Dólar e IBOVESPA', fontsize=14, weight='bold')\n",
        "ax.set_xlabel(\"date\")\n",
        "ax.set_ylabel(\"Valor (R$) / Pontos\")\n",
        "\n",
        "z = np.polyfit(bovespa.dias.dt.days,bovespa.DOLAR, 1)\n",
        "p = np.poly1d(z)\n",
        "ax.plot(bovespa.data,p(bovespa.dias.dt.days), linestyle='dashed', label='Linear DOLAR' ,linewidth=2, color='k')\n",
        "\n",
        "z = np.polyfit(bovespa.dias.dt.days,bovespa.IBOV, 1)\n",
        "p = np.poly1d(z)\n",
        "ax.plot(bovespa.data,p(bovespa.dias.dt.days), linestyle='dashed', label='Linear IBOV' ,linewidth=2, color='r')\n",
        "\n",
        "ax.legend(fontsize=12)\n",
        "\n",
        "import matplotlib.ticker as ticker\n",
        "ax.xaxis.set_major_locator(ticker.MaxNLocator(8))\n",
        "\n",
        "plt.show()"
      ],
      "execution_count": null,
      "outputs": []
    },
    {
      "cell_type": "markdown",
      "metadata": {
        "id": "0wVr-sZ3kbK1"
      },
      "source": [
        "Se você observou com atenção o mal resultado dessa visualização é por que os dados estão em escalas de valores muito diferentes e você não consegue, no mesmo gráfico, observar claramente as variáveis do dólar que encontram-se em um intervalo $4 \\pm 1$ de valores e os valores de índice Bovespa, no intervalo $100000 \\pm 10000$.\n",
        "\n",
        "O comando `ax.twinx()` no modo `Artist Layer` pode ser uma alternativa. Ele permite apresentar duas escalas diferentes no mesmo gráfico e podemos assim comparar a tendência das duas séries de dados simultaneamente."
      ]
    },
    {
      "cell_type": "code",
      "metadata": {
        "id": "z595NgvZlcQC"
      },
      "source": [
        "fig, ax = plt.subplots(figsize=(14,6))\n",
        "\n",
        "ax.plot(bovespa.data, bovespa.DOLAR, label='DOLAR', color='k', alpha=0.3)\n",
        "\n",
        "ax2 = ax.twinx()  # instantiate a second axes that shares the same x-axis\n",
        "\n",
        "ax2.plot(bovespa.data, bovespa.IBOV, label='IBOVESPA', color='r', alpha=0.3)\n",
        "\n",
        "ax.set_title('Tendência do Dólar e IBOVESPA', fontsize=14, weight='bold')\n",
        "ax.set_xlabel(\"date\")\n",
        "ax.set_ylabel(\"Valor (R$)\")\n",
        "ax2.set_ylabel(\"Pontos\")\n",
        "\n",
        "z = np.polyfit(bovespa.dias.dt.days,bovespa.DOLAR, 1)\n",
        "p = np.poly1d(z)\n",
        "ax.plot(bovespa.data,p(bovespa.dias.dt.days), linestyle='dashed', label='Linear DOLAR' ,linewidth=2, color='k')\n",
        "\n",
        "z = np.polyfit(bovespa.dias.dt.days,bovespa.IBOV, 1)\n",
        "p = np.poly1d(z)\n",
        "ax2.plot(bovespa.data,p(bovespa.dias.dt.days), linestyle='dashed', label='Linear IBOV' ,linewidth=2, color='r')\n",
        "\n",
        "ax.legend(loc='lower right',fontsize=12)\n",
        "ax2.legend(fontsize=12)\n",
        "\n",
        "import matplotlib.ticker as ticker\n",
        "ax.xaxis.set_major_locator(ticker.MaxNLocator(8))\n",
        "\n",
        "plt.show()"
      ],
      "execution_count": null,
      "outputs": []
    },
    {
      "cell_type": "markdown",
      "metadata": {
        "id": "veXuljYyn9QE"
      },
      "source": [
        "Esse procedimento, entretanto, só é útil quando temos até duas escalas diferentes de dados. Para mais de duas escalas a forma que podemos empregar é a normalização dos dados.\n",
        "\n",
        "> $\\bigstar \\text{  }$ *Cuidado ao empregar normalizações dos dados! Ao exibir os dados normalizados você não estará mais observando os valores reais dos dados, mas apenas seus movimentos relativos.*\n",
        "\n",
        "Existem várias formas de normalização e poderíamos aqui aplicar simplesmente uma normalização *min/max* dividindo cada valor pelo seu valor máximo levando, assim, cada atributo para valores entre $[0,1]$. Mas vamos adotar um procedimento muito usado, e igualmente simples, e aplicar uma normalização normalmente conhecida como *standard scaler* que normaliza os valores a uma média 0 e desvio padrão 1.\n",
        "\n",
        "$$ z = \\frac{x - \\bar{x}}{\\sigma(x)}$$\n",
        "\n",
        "O resultado encontra-se abaixo."
      ]
    },
    {
      "cell_type": "code",
      "metadata": {
        "id": "kVbf8Oveqqrt"
      },
      "source": [
        "bovespa_norm = ( bovespa.drop(columns=['data','dias']) - bovespa.drop(columns=['data','dias']).mean() ) / bovespa.drop(columns=['data','dias']).std()\n",
        "bovespa_norm = pd.concat([bovespa[['data','dias']], bovespa_norm],axis=1)\n",
        "bovespa_norm.head()\n"
      ],
      "execution_count": null,
      "outputs": []
    },
    {
      "cell_type": "code",
      "metadata": {
        "id": "EMd02eUqonlf"
      },
      "source": [
        "fig, ax = plt.subplots(figsize=(14,6))\n",
        "\n",
        "ax.plot(bovespa_norm.data, bovespa_norm.VALE3, label='VALE3', alpha=0.5)\n",
        "ax.plot(bovespa_norm.data, bovespa_norm.PETR4, label='PETR4', alpha=0.5)\n",
        "ax.plot(bovespa_norm.data, bovespa_norm.DOLAR, label='DOLAR', alpha=0.5)\n",
        "ax.plot(bovespa_norm.data, bovespa_norm.IBOV, label='IBOV')\n",
        "\n",
        "ax.set_title('Bolsa Ações', fontsize=14, weight='bold')\n",
        "ax.set_xlabel(\"date\")\n",
        "ax.set_ylabel(\"Tendência dos Valores\")\n",
        "\n",
        "ax.legend(fontsize=12)\n",
        "\n",
        "import matplotlib.ticker as ticker\n",
        "ax.xaxis.set_major_locator(ticker.MaxNLocator(8))\n",
        "\n",
        "plt.show()"
      ],
      "execution_count": null,
      "outputs": []
    },
    {
      "cell_type": "markdown",
      "metadata": {
        "id": "ABp1w-j6t5v1"
      },
      "source": [
        "Não é nosso objetivo tirar conclusões sobre esses dados aqui. Nosso interesse é apenas nas técnicas de visualização e análise empregados. Mas você pode, por exemplo, observar que o índice da bolsa segue de forma bastante próxima os movimentos das ações da VALE3 e PETR4 e identificar a presença de vales do índice quando de fortes aumentos do dólar e podemos deixar a uma análise melhor desses movimentos para os economistas e analistas de mercado.  "
      ]
    },
    {
      "cell_type": "markdown",
      "metadata": {
        "id": "uR0JL1JfPrmz"
      },
      "source": [
        "<br>\n",
        "<br>\n",
        "\n",
        "## $\\bigstar \\text{  }$ Um Cuidado no Uso do `plt.plot()`\n",
        "\n",
        "Esse é um erro tão comum no uso do `plt.plot()` que vale a pena voltarmos nele aqui antes de prosseguirmos para o próximo capítulo. **Evite produzir gráficos de linha com o `Matplotlib` quando há mais de ponto para a mesma coordenada**. Se você já entendeu isso pode saltar esta seção, mas vamos entender melhor o que isso significa.  \n",
        "\n"
      ]
    },
    {
      "cell_type": "code",
      "metadata": {
        "id": "x1OBR94DQPHo"
      },
      "source": [
        "import seaborn as sns\n",
        "fig, ax = plt.subplots(figsize=(12,8),sharex=True,sharey=True)\n",
        "\n",
        "plt.subplot(2,2,1)\n",
        "\n",
        "plt.plot(bovespa.mes, bovespa.IBOV, label='Valores Mês', color='r')\n",
        "\n",
        "plt.title(\"ERRADO\", fontsize=14, weight='bold', color='r')\n",
        "plt.xlabel(\"Mês\")\n",
        "plt.ylabel(\"Pontos\")\n",
        "plt.legend()\n",
        "\n",
        "plt.subplot(2,2,2)\n",
        "\n",
        "plt.scatter(bovespa.mes, bovespa.IBOV, label='Valores Mês', marker='o', color='b', alpha=0.1, s=64)\n",
        "plt.plot(bovespa.mes, bovespa.IBOV, label='Vários Valores', color='r')\n",
        "\n",
        "plt.title(\"ERRADO\", fontsize=14, weight='bold', color='r')\n",
        "plt.xlabel(\"Mês\")\n",
        "plt.ylabel(\"Pontos\")\n",
        "plt.legend()\n",
        "\n",
        "plt.subplot(2,2,3)\n",
        "\n",
        "plt.plot(bovespa.mes.unique(), ymean, label='Média dos Valores', marker='o', color='b', linewidth=1.2, markersize=4)\n",
        "plt.scatter(bovespa.mes, bovespa.IBOV, label='Valores Mês', marker='o', color='b', alpha=0.1, s=64)\n",
        "\n",
        "plt.title(\"CORRETO\", fontsize=14, weight='bold', color='b')\n",
        "plt.xlabel(\"Mês\")\n",
        "plt.ylabel(\"Pontos\")\n",
        "plt.legend()\n",
        "\n",
        "plt.subplot(2,2,4)\n",
        "\n",
        "sns.lineplot(x=bovespa.mes, y=bovespa.IBOV, label='Valores Mês', alpha=0.4)\n",
        "\n",
        "plt.title(\"CORRETO\", fontsize=14, weight='bold', color='b')\n",
        "plt.xlabel(\"Mês\")\n",
        "plt.ylabel(\"Pontos\")\n",
        "plt.legend()\n",
        "\n",
        "plt.tight_layout()\n",
        "plt.show()"
      ],
      "execution_count": null,
      "outputs": []
    },
    {
      "cell_type": "markdown",
      "metadata": {
        "id": "OVT73ZHhVREU"
      },
      "source": [
        "O gráfico `plt.plot` do `Matplotlib` conecta cada ponto de dados por uma linha. Portanto, havendo mais de um ponto de dados para uma mesma coordenada o resultado é o que você pode encontrar no primeiro gráfico da figura acima o que, certamente não é o que você desejaria para representar os dados. O erro fica claramente exibido no gráfico seguinte que mostra os vários pontos de dados de uma mesma coordenada ligados.\n",
        "\n",
        "Nesses casos é mais adequado empregar um *scatter plot* e, se quiser adicionar uma linha média como fizemos nos exemplos anteriores ou aqui no terceiro gráfico. O `sns.lineplot` do pacote `Seaborn` também pode ser uma opção já tem um comportamento diferente do `plt.plot`. Ele já exibe por padrão a linha média dos dados e adiciona um intervalo de confiança em torno desses valores. Quaisquer dessas opções são corretas e podem ser então empregadas.\n"
      ]
    },
    {
      "cell_type": "markdown",
      "metadata": {
        "id": "RYPItWqKm4c1"
      },
      "source": [
        "Obviamente não é nosso propósito fazer uma análise completa e conclusiva desses dados aqui, mas podemos ter uma ideia das relações entre buscas de termos no Google, a evolução de casos de Covid e seus impactos na Bolsa, e você pode observar aqui o potencial de empregarmos a visualização de dados para entender a evolução desses dados. Vamos então ver alguns instrumentos úteis para melhor a  investigação de dados como esses a partir de gráficos de linha.  O primeiro trata de como adicionarmos linhas de tendência e segundo sobre dados que apresentam se apresentam em diferentes escalas.\n"
      ]
    }
  ]
}