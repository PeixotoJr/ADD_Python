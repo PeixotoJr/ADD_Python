{
  "nbformat": 4,
  "nbformat_minor": 5,
  "metadata": {
    "kernelspec": {
      "display_name": "Python 3",
      "language": "python",
      "name": "python3"
    },
    "language_info": {
      "codemirror_mode": {
        "name": "ipython",
        "version": 3
      },
      "file_extension": ".py",
      "mimetype": "text/x-python",
      "name": "python",
      "nbconvert_exporter": "python",
      "pygments_lexer": "ipython3",
      "version": "3.8.8"
    },
    "colab": {
      "provenance": [],
      "include_colab_link": true
    }
  },
  "cells": [
    {
      "cell_type": "markdown",
      "metadata": {
        "id": "view-in-github",
        "colab_type": "text"
      },
      "source": [
        "<a href=\"https://colab.research.google.com/github/PeixotoJr/ADD_Python/blob/main/CAP_01.ipynb\" target=\"_parent\"><img src=\"https://colab.research.google.com/assets/colab-badge.svg\" alt=\"Open In Colab\"/></a>"
      ]
    },
    {
      "cell_type": "markdown",
      "metadata": {
        "id": "alpha-movement"
      },
      "source": [
        "# CAP-01 - Introdução ao PANDAS"
      ],
      "id": "alpha-movement"
    },
    {
      "cell_type": "markdown",
      "metadata": {
        "id": "prospective-things"
      },
      "source": [
        "### Pandas é um pacote Python que fornece estruturas de dados rápidas, flexíveis e expressivas projetadas para tornar o trabalho com dados “relacionais” ou “rotulados” fácil e intuitivo. Tem como objetivo ser o bloco de construção fundamental de alto nível para fazer análises de dados práticas e do mundo real em Python."
      ],
      "id": "prospective-things"
    },
    {
      "cell_type": "markdown",
      "metadata": {
        "id": "adopted-carnival"
      },
      "source": [
        " -> conda install pandas\n",
        "    \n",
        " -> pip install pandas\n",
        "\n",
        " -> Usaremos o https://www.anaconda.com/ e o Jupyter"
      ],
      "id": "adopted-carnival"
    },
    {
      "cell_type": "markdown",
      "metadata": {
        "id": "stable-shakespeare"
      },
      "source": [
        "#### Hello World\n",
        "Depois de instalar o Pandas, você pode verificar se está funcionando corretamente criando um conjunto de dados de\n",
        "valores distribuídos aleatoriamente e traçando seu histograma."
      ],
      "id": "stable-shakespeare"
    },
    {
      "cell_type": "code",
      "metadata": {
        "id": "cognitive-render"
      },
      "source": [
        "# isso é um comentário\n",
        "import pandas as pd # sempre importa os pacontes / \"bibliotecas\"\n",
        "import numpy as np\n",
        "import matplotlib.pyplot as plt"
      ],
      "id": "cognitive-render",
      "execution_count": null,
      "outputs": []
    },
    {
      "cell_type": "code",
      "metadata": {
        "colab": {
          "base_uri": "https://localhost:8080/",
          "height": 281
        },
        "id": "superb-adventure",
        "outputId": "dc65a3df-8abf-4320-e038-4890edb636f4"
      },
      "source": [
        "values = np.random.randn(100000) # cria um array/vetor de 100000 distribuídos normal / gaussiana\n",
        "s = pd.Series(values) # transforma o array em uma série (mais a frente vamos ver o que uma Série em Pandas - acredita )\n",
        "s.plot(kind='hist', title='Distribuição Normal') # cria o histograma da distribuição\n",
        "plt.show()"
      ],
      "id": "superb-adventure",
      "execution_count": null,
      "outputs": [
        {
          "output_type": "display_data",
          "data": {
            "image/png": "[encoded data removed]",
            "text/plain": [
              "<Figure size 432x288 with 1 Axes>"
            ]
          },
          "metadata": {
            "needs_background": "light"
          }
        }
      ]
    },
    {
      "cell_type": "code",
      "metadata": {
        "scrolled": true,
        "colab": {
          "base_uri": "https://localhost:8080/"
        },
        "id": "compliant-vocabulary",
        "outputId": "2ddbe54b-5f2d-45ca-8c48-ade62ed66b0d"
      },
      "source": [
        "s.describe() # descreve o nosso Data Frame"
      ],
      "id": "compliant-vocabulary",
      "execution_count": null,
      "outputs": [
        {
          "output_type": "execute_result",
          "data": {
            "text/plain": [
              "count    100000.000000\n",
              "mean         -0.000215\n",
              "std           1.001063\n",
              "min          -4.486736\n",
              "25%          -0.671337\n",
              "50%          -0.000606\n",
              "75%           0.669831\n",
              "max           4.287481\n",
              "dtype: float64"
            ]
          },
          "metadata": {},
          "execution_count": 3
        }
      ]
    },
    {
      "cell_type": "markdown",
      "metadata": {
        "id": "professional-victim"
      },
      "source": [
        "#### Vamos criar um Data Frame - df\n",
        "{'A': [1, 2, 1, 4, 3, 5, 2, 3, 4, 1] - traduzindo: crie uma coluna chamada 'A' com os seguintes dados: [1, 2, 1, 4, 3, 5, 2, 3, 4, 1]"
      ],
      "id": "professional-victim"
    },
    {
      "cell_type": "code",
      "metadata": {
        "id": "helpful-ocean"
      },
      "source": [
        "df = pd.DataFrame({'A': [1, 2, 1, 4, 3, 5, 2, 3, 4, 1],\n",
        "'B': [12, 14, 11, 16, 18, 18, 22, 13, 21, 17],\n",
        "'C': ['a', 'a', 'b', 'a', 'b', 'c', 'b', 'a', 'b', 'a']})"
      ],
      "id": "helpful-ocean",
      "execution_count": null,
      "outputs": []
    },
    {
      "cell_type": "markdown",
      "metadata": {
        "id": "social-shipping"
      },
      "source": [
        "#### Ver os dados de df"
      ],
      "id": "social-shipping"
    },
    {
      "cell_type": "code",
      "metadata": {
        "scrolled": false,
        "colab": {
          "base_uri": "https://localhost:8080/",
          "height": 359
        },
        "id": "processed-magnitude",
        "outputId": "a7e6efb4-d7a1-4f2b-c0ce-ca97c1083cd9"
      },
      "source": [
        "#print(df)\n",
        "#ou simplemente\n",
        "df"
      ],
      "id": "processed-magnitude",
      "execution_count": null,
      "outputs": [
        {
          "output_type": "execute_result",
          "data": {
            "text/html": [
              "<div>\n",
              "<style scoped>\n",
              "    .dataframe tbody tr th:only-of-type {\n",
              "        vertical-align: middle;\n",
              "    }\n",
              "\n",
              "    .dataframe tbody tr th {\n",
              "        vertical-align: top;\n",
              "    }\n",
              "\n",
              "    .dataframe thead th {\n",
              "        text-align: right;\n",
              "    }\n",
              "</style>\n",
              "<table border=\"1\" class=\"dataframe\">\n",
              "  <thead>\n",
              "    <tr style=\"text-align: right;\">\n",
              "      <th></th>\n",
              "      <th>A</th>\n",
              "      <th>B</th>\n",
              "      <th>C</th>\n",
              "    </tr>\n",
              "  </thead>\n",
              "  <tbody>\n",
              "    <tr>\n",
              "      <th>0</th>\n",
              "      <td>1</td>\n",
              "      <td>12</td>\n",
              "      <td>a</td>\n",
              "    </tr>\n",
              "    <tr>\n",
              "      <th>1</th>\n",
              "      <td>2</td>\n",
              "      <td>14</td>\n",
              "      <td>a</td>\n",
              "    </tr>\n",
              "    <tr>\n",
              "      <th>2</th>\n",
              "      <td>1</td>\n",
              "      <td>11</td>\n",
              "      <td>b</td>\n",
              "    </tr>\n",
              "    <tr>\n",
              "      <th>3</th>\n",
              "      <td>4</td>\n",
              "      <td>16</td>\n",
              "      <td>a</td>\n",
              "    </tr>\n",
              "    <tr>\n",
              "      <th>4</th>\n",
              "      <td>3</td>\n",
              "      <td>18</td>\n",
              "      <td>b</td>\n",
              "    </tr>\n",
              "    <tr>\n",
              "      <th>5</th>\n",
              "      <td>5</td>\n",
              "      <td>18</td>\n",
              "      <td>c</td>\n",
              "    </tr>\n",
              "    <tr>\n",
              "      <th>6</th>\n",
              "      <td>2</td>\n",
              "      <td>22</td>\n",
              "      <td>b</td>\n",
              "    </tr>\n",
              "    <tr>\n",
              "      <th>7</th>\n",
              "      <td>3</td>\n",
              "      <td>13</td>\n",
              "      <td>a</td>\n",
              "    </tr>\n",
              "    <tr>\n",
              "      <th>8</th>\n",
              "      <td>4</td>\n",
              "      <td>21</td>\n",
              "      <td>b</td>\n",
              "    </tr>\n",
              "    <tr>\n",
              "      <th>9</th>\n",
              "      <td>1</td>\n",
              "      <td>17</td>\n",
              "      <td>a</td>\n",
              "    </tr>\n",
              "  </tbody>\n",
              "</table>\n",
              "</div>"
            ],
            "text/plain": [
              "   A   B  C\n",
              "0  1  12  a\n",
              "1  2  14  a\n",
              "2  1  11  b\n",
              "3  4  16  a\n",
              "4  3  18  b\n",
              "5  5  18  c\n",
              "6  2  22  b\n",
              "7  3  13  a\n",
              "8  4  21  b\n",
              "9  1  17  a"
            ]
          },
          "metadata": {},
          "execution_count": 5
        }
      ]
    },
    {
      "cell_type": "markdown",
      "metadata": {
        "id": "quarterly-armstrong"
      },
      "source": [
        "#### Estatísticas (média, desvio padrão, número de observações, mínimo, máximo, e quartis) de colunas numéricas podem ser calculados usando o método .describe (), que retorna um quadro de dados do pandas de estatísticas descritivas"
      ],
      "id": "quarterly-armstrong"
    },
    {
      "cell_type": "code",
      "metadata": {
        "scrolled": true,
        "colab": {
          "base_uri": "https://localhost:8080/",
          "height": 297
        },
        "id": "equipped-spotlight",
        "outputId": "3528e846-669a-4178-ee98-9d176dfd59d8"
      },
      "source": [
        "df.describe()"
      ],
      "id": "equipped-spotlight",
      "execution_count": null,
      "outputs": [
        {
          "output_type": "execute_result",
          "data": {
            "text/html": [
              "<div>\n",
              "<style scoped>\n",
              "    .dataframe tbody tr th:only-of-type {\n",
              "        vertical-align: middle;\n",
              "    }\n",
              "\n",
              "    .dataframe tbody tr th {\n",
              "        vertical-align: top;\n",
              "    }\n",
              "\n",
              "    .dataframe thead th {\n",
              "        text-align: right;\n",
              "    }\n",
              "</style>\n",
              "<table border=\"1\" class=\"dataframe\">\n",
              "  <thead>\n",
              "    <tr style=\"text-align: right;\">\n",
              "      <th></th>\n",
              "      <th>A</th>\n",
              "      <th>B</th>\n",
              "    </tr>\n",
              "  </thead>\n",
              "  <tbody>\n",
              "    <tr>\n",
              "      <th>count</th>\n",
              "      <td>10.000000</td>\n",
              "      <td>10.000000</td>\n",
              "    </tr>\n",
              "    <tr>\n",
              "      <th>mean</th>\n",
              "      <td>2.600000</td>\n",
              "      <td>16.200000</td>\n",
              "    </tr>\n",
              "    <tr>\n",
              "      <th>std</th>\n",
              "      <td>1.429841</td>\n",
              "      <td>3.705851</td>\n",
              "    </tr>\n",
              "    <tr>\n",
              "      <th>min</th>\n",
              "      <td>1.000000</td>\n",
              "      <td>11.000000</td>\n",
              "    </tr>\n",
              "    <tr>\n",
              "      <th>25%</th>\n",
              "      <td>1.250000</td>\n",
              "      <td>13.250000</td>\n",
              "    </tr>\n",
              "    <tr>\n",
              "      <th>50%</th>\n",
              "      <td>2.500000</td>\n",
              "      <td>16.500000</td>\n",
              "    </tr>\n",
              "    <tr>\n",
              "      <th>75%</th>\n",
              "      <td>3.750000</td>\n",
              "      <td>18.000000</td>\n",
              "    </tr>\n",
              "    <tr>\n",
              "      <th>max</th>\n",
              "      <td>5.000000</td>\n",
              "      <td>22.000000</td>\n",
              "    </tr>\n",
              "  </tbody>\n",
              "</table>\n",
              "</div>"
            ],
            "text/plain": [
              "               A          B\n",
              "count  10.000000  10.000000\n",
              "mean    2.600000  16.200000\n",
              "std     1.429841   3.705851\n",
              "min     1.000000  11.000000\n",
              "25%     1.250000  13.250000\n",
              "50%     2.500000  16.500000\n",
              "75%     3.750000  18.000000\n",
              "max     5.000000  22.000000"
            ]
          },
          "metadata": {},
          "execution_count": 6
        }
      ]
    },
    {
      "cell_type": "markdown",
      "metadata": {
        "id": "connected-drill"
      },
      "source": [
        "### E a coluna \"C\"? Calma!\n",
        "A coluna \"C\" não é númerica. Neste caso, o método resume os dados categóricos por número de observações, número de elementos exclusivos, modo e frequência do modo."
      ],
      "id": "connected-drill"
    },
    {
      "cell_type": "code",
      "metadata": {
        "colab": {
          "base_uri": "https://localhost:8080/"
        },
        "id": "answering-dimension",
        "outputId": "479df942-e0e6-4fef-b668-fb2949c9b7d2"
      },
      "source": [
        "df['C'].describe()"
      ],
      "id": "answering-dimension",
      "execution_count": null,
      "outputs": [
        {
          "output_type": "execute_result",
          "data": {
            "text/plain": [
              "count     10\n",
              "unique     3\n",
              "top        a\n",
              "freq       5\n",
              "Name: C, dtype: object"
            ]
          },
          "metadata": {},
          "execution_count": 7
        }
      ]
    }
  ]
}